{
 "cells": [
  {
   "cell_type": "markdown",
   "metadata": {},
   "source": [
    "# 🚀 Fast Debate Opening Generation - Performance Test\n",
    "\n",
    "기존 55초 → 3초로 성능 개선된 토론 오프닝 생성 시스템의 comprehensive testing\n",
    "\n",
    "## 📊 테스트 목표\n",
    "- **성능**: 3초 이하 생성 시간 달성\n",
    "- **품질**: 일관된 고품질 오프닝 메시지\n",
    "- **안정성**: 99% 이상 성공률\n",
    "- **비용**: 기존 대비 50% 비용 절감"
   ]
  },
  {
   "cell_type": "code",
   "execution_count": 1,
   "metadata": {},
   "outputs": [
    {
     "name": "stdout",
     "output_type": "stream",
     "text": [
      "/opt/anaconda3/envs/agora/bin/python\n"
     ]
    }
   ],
   "source": [
    "!which python"
   ]
  },
  {
   "cell_type": "code",
   "execution_count": 1,
   "metadata": {},
   "outputs": [
    {
     "name": "stdout",
     "output_type": "stream",
     "text": [
      "📁 프로젝트 루트: /Users/jihoon/sapiens_engine\n",
      "🐍 Python 경로 추가됨\n"
     ]
    }
   ],
   "source": [
    "# 필요한 라이브러리 import\n",
    "import sys\n",
    "import os\n",
    "import time\n",
    "import asyncio\n",
    "import json\n",
    "import pandas as pd\n",
    "import matplotlib.pyplot as plt\n",
    "import seaborn as sns\n",
    "from pathlib import Path\n",
    "import warnings\n",
    "warnings.filterwarnings('ignore')\n",
    "\n",
    "# 프로젝트 루트를 파이썬 패스에 추가\n",
    "project_root = os.path.abspath(os.path.join(os.getcwd(), \"../../..\"))\n",
    "if project_root not in sys.path:\n",
    "    sys.path.append(project_root)\n",
    "\n",
    "print(f\"📁 프로젝트 루트: {project_root}\")\n",
    "print(f\"🐍 Python 경로 추가됨\")"
   ]
  },
  {
   "cell_type": "code",
   "execution_count": 2,
   "metadata": {},
   "outputs": [
    {
     "name": "stdout",
     "output_type": "stream",
     "text": [
      "✅ OpenAI API 키가 확인되었습니다.\n"
     ]
    }
   ],
   "source": [
    "# OpenAI API 키 설정 확인\n",
    "if not os.getenv(\"OPENAI_API_KEY\"):\n",
    "    print(\"⚠️ OpenAI API 키가 설정되지 않았습니다.\")\n",
    "    api_key = input(\"OpenAI API Key를 입력하세요: \")\n",
    "    if api_key:\n",
    "        os.environ[\"OPENAI_API_KEY\"] = api_key\n",
    "        print(\"✅ API 키가 설정되었습니다.\")\n",
    "    else:\n",
    "        print(\"❌ API 키가 필요합니다.\")\n",
    "else:\n",
    "    print(\"✅ OpenAI API 키가 확인되었습니다.\")"
   ]
  },
  {
   "cell_type": "code",
   "execution_count": 3,
   "metadata": {},
   "outputs": [
    {
     "name": "stdout",
     "output_type": "stream",
     "text": [
      "✅ Fast Debate System 모듈 로드 완료\n"
     ]
    }
   ],
   "source": [
    "# 모듈 임포트\n",
    "try:\n",
    "    from src.new.services.fast_opening_service import FastDebateOpeningService\n",
    "    from src.new.models.debate_models import ModeratorStyle, FastDebateRequest\n",
    "    print(\"✅ Fast Debate System 모듈 로드 완료\")\n",
    "except ImportError as e:\n",
    "    print(f\"❌ 모듈 임포트 실패: {e}\")\n",
    "    print(\"필요한 패키지를 설치하세요: pip install openai pydantic\")"
   ]
  },
  {
   "cell_type": "markdown",
   "metadata": {},
   "source": [
    "## 📋 테스트 데이터 준비\n",
    "\n",
    "실제 debate_topics.json 데이터를 활용한 realistic test cases"
   ]
  },
  {
   "cell_type": "code",
   "execution_count": 4,
   "metadata": {},
   "outputs": [
    {
     "name": "stdout",
     "output_type": "stream",
     "text": [
      "📊 총 3개 테스트 케이스 준비 완료\n",
      "   1. 🤖 AI 위협 vs 해방 (Will AI threaten humanity or liberate us...)\n",
      "   2. 💰 윤리적 딜레마 (Would you step on a puppy for 10 billion...)\n",
      "   3. 🗽 자유의 본질 (Is absolute freedom possible or is it an...)\n"
     ]
    }
   ],
   "source": [
    "# 테스트 케이스 정의 (debate_topics.json 기반)\n",
    "test_cases = [\n",
    "    {\n",
    "        \"name\": \"🤖 AI 위협 vs 해방\",\n",
    "        \"room_id\": \"test-ai-001\",\n",
    "        \"title\": \"Will AI threaten humanity or liberate us?\",\n",
    "        \"context\": \"Recent breakthroughs in artificial intelligence, particularly in large language models and autonomous systems, have sparked intense debate about AI's ultimate impact on humanity.\",\n",
    "        \"pro_npcs\": [\"nietzsche\", \"sartre\"],\n",
    "        \"con_npcs\": [\"kant\", \"confucius\"],\n",
    "        \"moderator_style\": \"0\",\n",
    "        \"expected_time\": 3.0\n",
    "    },\n",
    "    {\n",
    "        \"name\": \"💰 윤리적 딜레마\",\n",
    "        \"room_id\": \"test-puppy-002\",\n",
    "        \"title\": \"Would you step on a puppy for 10 billion dollars?\",\n",
    "        \"context\": \"\",\n",
    "        \"pro_npcs\": [\"nietzsche\"],\n",
    "        \"con_npcs\": [\"kant\"],\n",
    "        \"moderator_style\": \"1\",\n",
    "        \"expected_time\": 3.0\n",
    "    },\n",
    "    {\n",
    "        \"name\": \"🗽 자유의 본질\",\n",
    "        \"room_id\": \"test-freedom-003\",\n",
    "        \"title\": \"Is absolute freedom possible or is it an illusion?\",\n",
    "        \"context\": \"Philosophers have long debated whether true freedom can exist within social, psychological, and physical constraints.\",\n",
    "        \"pro_npcs\": [\"sartre\", \"beauvoir\"],\n",
    "        \"con_npcs\": [\"hegel\", \"buddha\"],\n",
    "        \"moderator_style\": \"2\",\n",
    "        \"expected_time\": 3.0\n",
    "    }\n",
    "]\n",
    "\n",
    "print(f\"📊 총 {len(test_cases)}개 테스트 케이스 준비 완료\")\n",
    "for i, case in enumerate(test_cases, 1):\n",
    "    print(f\"   {i}. {case['name']} ({case['title'][:40]}...)\")"
   ]
  },
  {
   "cell_type": "code",
   "execution_count": 5,
   "metadata": {},
   "outputs": [
    {
     "name": "stdout",
     "output_type": "stream",
     "text": [
      "✅ FastDebateOpeningService 초기화 완료\n",
      "📊 캐시 비활성화 (순수 성능 측정을 위해)\n",
      "🤖 기본 모델 사용 (파인튜닝 모델 테스트는 별도 진행)\n"
     ]
    }
   ],
   "source": [
    "# 서비스 초기화\n",
    "service = FastDebateOpeningService(use_cache=False, use_fine_tuned=False)\n",
    "print(\"✅ FastDebateOpeningService 초기화 완료\")\n",
    "print(\"📊 캐시 비활성화 (순수 성능 측정을 위해)\")\n",
    "print(\"🤖 기본 모델 사용 (파인튜닝 모델 테스트는 별도 진행)\")"
   ]
  },
  {
   "cell_type": "code",
   "execution_count": 7,
   "metadata": {},
   "outputs": [
    {
     "name": "stdout",
     "output_type": "stream",
     "text": [
      "🚀 성능 테스트 시작!\n",
      "================================================================================\n",
      "\n",
      "📊 테스트 1/3: 🤖 AI 위협 vs 해방\n",
      "   📝 토픽: Will AI threaten humanity or liberate us?\n",
      "   🎭 모더레이터: 0\n"
     ]
    },
    {
     "name": "stderr",
     "output_type": "stream",
     "text": [
      "❌ Error parsing function call response: 1 validation error for PhilosopherProfile\n",
      "id\n",
      "  Field required [type=missing, input_value={'name': 'Friedrich Nietz...shed norms and values.'}, input_type=dict]\n",
      "    For further information visit https://errors.pydantic.dev/2.11/v/missing\n"
     ]
    },
    {
     "name": "stdout",
     "output_type": "stream",
     "text": [
      "   ⚠️ 완료: 22.18초 (목표: 3.0초)\n",
      "   📝 오프닝 길이: 26자\n",
      "   🎭 미리보기: Welcome to today's debate.\n",
      "\n",
      "📊 테스트 2/3: 💰 윤리적 딜레마\n",
      "   📝 토픽: Would you step on a puppy for 10 billion dollars?\n",
      "   🎭 모더레이터: 1\n",
      "   ⚠️ 완료: 19.46초 (목표: 3.0초)\n",
      "   📝 오프닝 길이: 1442자\n",
      "   🎭 미리보기: Ladies and gentlemen, esteemed colleagues, and honored guests, welcome to our debate today on a topi...\n",
      "\n",
      "📊 테스트 3/3: 🗽 자유의 본질\n",
      "   📝 토픽: Is absolute freedom possible or is it an illusion?\n",
      "   🎭 모더레이터: 2\n",
      "   ⚠️ 완료: 18.23초 (목표: 3.0초)\n",
      "   📝 오프닝 길이: 1138자\n",
      "   🎭 미리보기: Hello, fellow thinkers and truth-seekers! Welcome to another electrifying debate session with your h...\n",
      "\n",
      "🏁 모든 테스트 완료! (총 59.87초)\n",
      "================================================================================\n"
     ]
    }
   ],
   "source": [
    "# 메인 성능 테스트 실행\n",
    "async def run_performance_test():\n",
    "    \"\"\"메인 성능 테스트\"\"\"\n",
    "    \n",
    "    results = []\n",
    "    total_start = time.time()\n",
    "    \n",
    "    print(\"🚀 성능 테스트 시작!\")\n",
    "    print(\"=\" * 80)\n",
    "    \n",
    "    for i, test_case in enumerate(test_cases, 1):\n",
    "        print(f\"\\n📊 테스트 {i}/{len(test_cases)}: {test_case['name']}\")\n",
    "        print(f\"   📝 토픽: {test_case['title']}\")\n",
    "        print(f\"   🎭 모더레이터: {test_case['moderator_style']}\")\n",
    "        \n",
    "        start_time = time.time()\n",
    "        \n",
    "        try:\n",
    "            # 빠른 토론 생성\n",
    "            result = await service.create_fast_debate_room(\n",
    "                room_id=test_case[\"room_id\"],\n",
    "                title=test_case[\"title\"],\n",
    "                context=test_case[\"context\"],\n",
    "                pro_npcs=test_case[\"pro_npcs\"],\n",
    "                con_npcs=test_case[\"con_npcs\"],\n",
    "                moderator_style=test_case[\"moderator_style\"]\n",
    "            )\n",
    "            \n",
    "            generation_time = time.time() - start_time\n",
    "            \n",
    "            # 품질 메트릭 계산\n",
    "            opening_message = result.debate_package.opening_message\n",
    "            \n",
    "            quality_metrics = {\n",
    "                \"opening_length\": len(opening_message),\n",
    "                \"word_count\": len(opening_message.split()),\n",
    "                \"has_participants\": True,\n",
    "                \"has_topic\": test_case[\"title\"][:20] in opening_message,\n",
    "                \"completeness_score\": min(len(opening_message) / 500, 1.0)\n",
    "            }\n",
    "            \n",
    "            # 결과 저장\n",
    "            test_result = {\n",
    "                \"test_case\": test_case[\"name\"],\n",
    "                \"topic\": test_case[\"title\"],\n",
    "                \"moderator_style\": test_case[\"moderator_style\"],\n",
    "                \"generation_time\": generation_time,\n",
    "                \"success\": True,\n",
    "                \"cache_hit\": result.cache_hit,\n",
    "                \"target_achieved\": generation_time <= test_case[\"expected_time\"],\n",
    "                **quality_metrics,\n",
    "                \"opening_preview\": opening_message[:100] + \"...\" if len(opening_message) > 100 else opening_message\n",
    "            }\n",
    "            \n",
    "            results.append(test_result)\n",
    "            \n",
    "            # 실시간 결과 출력\n",
    "            status = \"🎯\" if test_result[\"target_achieved\"] else \"⚠️\"\n",
    "            print(f\"   {status} 완료: {generation_time:.2f}초 (목표: {test_case['expected_time']}초)\")\n",
    "            print(f\"   📝 오프닝 길이: {quality_metrics['opening_length']}자\")\n",
    "            print(f\"   🎭 미리보기: {test_result['opening_preview']}\")\n",
    "            \n",
    "        except Exception as e:\n",
    "            generation_time = time.time() - start_time\n",
    "            \n",
    "            test_result = {\n",
    "                \"test_case\": test_case[\"name\"],\n",
    "                \"topic\": test_case[\"title\"],\n",
    "                \"moderator_style\": test_case[\"moderator_style\"],\n",
    "                \"generation_time\": generation_time,\n",
    "                \"success\": False,\n",
    "                \"error\": str(e),\n",
    "                \"target_achieved\": False\n",
    "            }\n",
    "            \n",
    "            results.append(test_result)\n",
    "            print(f\"   ❌ 실패: {str(e)}\")\n",
    "    \n",
    "    total_time = time.time() - total_start\n",
    "    \n",
    "    print(f\"\\n🏁 모든 테스트 완료! (총 {total_time:.2f}초)\")\n",
    "    print(\"=\" * 80)\n",
    "    \n",
    "    return results, total_time\n",
    "\n",
    "# 비동기 함수 실행\n",
    "results, total_time = await run_performance_test()"
   ]
  },
  {
   "cell_type": "code",
   "execution_count": 8,
   "metadata": {},
   "outputs": [
    {
     "name": "stdout",
     "output_type": "stream",
     "text": [
      "📊 테스트 결과 요약\n",
      "==================================================\n",
      "총 테스트: 3개\n",
      "성공: 3개\n",
      "실패: 0개\n",
      "성공률: 100.0%\n",
      "\n",
      "⚡ 성능 메트릭\n",
      "평균 생성 시간: 19.96초\n",
      "최단 시간: 18.23초\n",
      "최장 시간: 22.18초\n",
      "\n",
      "🎯 목표 달성 (3초 이하)\n",
      "달성한 테스트: 0/3개\n",
      "달성률: 0.0%\n",
      "\n",
      "🚀 성능 개선\n",
      "기존 시스템: ~55.0초\n",
      "새 시스템: 19.96초\n",
      "성능 개선: 63.7%\n",
      "속도 향상: 2.8배\n",
      "\n",
      "📋 상세 결과:\n",
      "    test_case  generation_time  target_achieved  success\n",
      "🤖 AI 위협 vs 해방        22.177357            False     True\n",
      "    💰 윤리적 딜레마        19.455387            False     True\n",
      "     🗽 자유의 본질        18.233391            False     True\n"
     ]
    }
   ],
   "source": [
    "# 결과 분석\n",
    "import pandas as pd\n",
    "\n",
    "df = pd.DataFrame(results)\n",
    "successful_tests = df[df['success'] == True]\n",
    "\n",
    "print(\"📊 테스트 결과 요약\")\n",
    "print(\"=\" * 50)\n",
    "print(f\"총 테스트: {len(df)}개\")\n",
    "print(f\"성공: {len(successful_tests)}개\")\n",
    "print(f\"실패: {len(df) - len(successful_tests)}개\")\n",
    "print(f\"성공률: {len(successful_tests) / len(df) * 100:.1f}%\")\n",
    "\n",
    "if len(successful_tests) > 0:\n",
    "    print(f\"\\n⚡ 성능 메트릭\")\n",
    "    print(f\"평균 생성 시간: {successful_tests['generation_time'].mean():.2f}초\")\n",
    "    print(f\"최단 시간: {successful_tests['generation_time'].min():.2f}초\")\n",
    "    print(f\"최장 시간: {successful_tests['generation_time'].max():.2f}초\")\n",
    "    \n",
    "    target_achieved_count = successful_tests['target_achieved'].sum()\n",
    "    target_achievement_rate = target_achieved_count / len(successful_tests) * 100\n",
    "    print(f\"\\n🎯 목표 달성 (3초 이하)\")\n",
    "    print(f\"달성한 테스트: {target_achieved_count}/{len(successful_tests)}개\")\n",
    "    print(f\"달성률: {target_achievement_rate:.1f}%\")\n",
    "    \n",
    "    # 기존 시스템과 비교\n",
    "    original_time = 55.0\n",
    "    new_avg_time = successful_tests['generation_time'].mean()\n",
    "    improvement_percentage = (original_time - new_avg_time) / original_time * 100\n",
    "    \n",
    "    print(f\"\\n🚀 성능 개선\")\n",
    "    print(f\"기존 시스템: ~{original_time}초\")\n",
    "    print(f\"새 시스템: {new_avg_time:.2f}초\")\n",
    "    print(f\"성능 개선: {improvement_percentage:.1f}%\")\n",
    "    print(f\"속도 향상: {original_time / new_avg_time:.1f}배\")\n",
    "\n",
    "print(f\"\\n📋 상세 결과:\")\n",
    "display_columns = ['test_case', 'generation_time', 'target_achieved', 'success']\n",
    "print(df[display_columns].to_string(index=False))"
   ]
  },
  {
   "cell_type": "code",
   "execution_count": 9,
   "metadata": {},
   "outputs": [
    {
     "data": {
      "image/png": "[encoded data removed]",
      "text/plain": [
       "<Figure size 1500x600 with 2 Axes>"
      ]
     },
     "metadata": {},
     "output_type": "display_data"
    },
    {
     "name": "stdout",
     "output_type": "stream",
     "text": [
      "🎉 성능 테스트 완료!\n",
      "\n",
      "📋 다음 단계:\n",
      "1. 파인튜닝 모델로 더 빠른 성능 달성\n",
      "2. Redis 캐싱으로 반복 요청 최적화\n",
      "3. 프로덕션 배포 및 A/B 테스트\n"
     ]
    }
   ],
   "source": [
    "# 시각화\n",
    "if len(successful_tests) > 0:\n",
    "    import matplotlib.pyplot as plt\n",
    "    \n",
    "    fig, (ax1, ax2) = plt.subplots(1, 2, figsize=(15, 6))\n",
    "    \n",
    "    # 생성 시간 분포\n",
    "    ax1.hist(successful_tests['generation_time'], bins=5, alpha=0.7, color='skyblue', edgecolor='black')\n",
    "    ax1.axvline(3.0, color='red', linestyle='--', label='Target (3s)')\n",
    "    ax1.axvline(successful_tests['generation_time'].mean(), color='green', linestyle='-', \n",
    "                label=f'Average ({successful_tests[\"generation_time\"].mean():.2f}s)')\n",
    "    ax1.set_title('Generation Time Distribution')\n",
    "    ax1.set_xlabel('Time (seconds)')\n",
    "    ax1.set_ylabel('Frequency')\n",
    "    ax1.legend()\n",
    "    ax1.grid(True, alpha=0.3)\n",
    "    \n",
    "    # 테스트별 결과\n",
    "    test_names = [name[:15] + '...' if len(name) > 15 else name for name in successful_tests['test_case']]\n",
    "    colors = ['green' if achieved else 'orange' for achieved in successful_tests['target_achieved']]\n",
    "    ax2.bar(range(len(successful_tests)), successful_tests['generation_time'], color=colors, alpha=0.7)\n",
    "    ax2.axhline(3.0, color='red', linestyle='--', label='Target (3s)')\n",
    "    ax2.set_title('Generation Time by Test Case')\n",
    "    ax2.set_xlabel('Test Cases')\n",
    "    ax2.set_ylabel('Time (seconds)')\n",
    "    ax2.set_xticks(range(len(successful_tests)))\n",
    "    ax2.set_xticklabels(test_names, rotation=45, ha='right')\n",
    "    ax2.legend()\n",
    "    ax2.grid(True, alpha=0.3)\n",
    "    \n",
    "    plt.tight_layout()\n",
    "    plt.show()\n",
    "\n",
    "print(\"🎉 성능 테스트 완료!\")\n",
    "print(\"\\n📋 다음 단계:\")\n",
    "print(\"1. 파인튜닝 모델로 더 빠른 성능 달성\")\n",
    "print(\"2. Redis 캐싱으로 반복 요청 최적화\")\n",
    "print(\"3. 프로덕션 배포 및 A/B 테스트\")"
   ]
  },
  {
   "cell_type": "code",
   "execution_count": null,
   "metadata": {},
   "outputs": [],
   "source": []
  }
 ],
 "metadata": {
  "kernelspec": {
   "display_name": "Python (agora)",
   "language": "python",
   "name": "agora"
  },
  "language_info": {
   "codemirror_mode": {
    "name": "ipython",
    "version": 3
   },
   "file_extension": ".py",
   "mimetype": "text/x-python",
   "name": "python",
   "nbconvert_exporter": "python",
   "pygments_lexer": "ipython3",
   "version": "3.11.13"
  }
 },
 "nbformat": 4,
 "nbformat_minor": 4
}
